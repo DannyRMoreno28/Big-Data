{
  "cells": [
    {
      "cell_type": "markdown",
      "metadata": {
        "id": "view-in-github",
        "colab_type": "text"
      },
      "source": [
        "<a href=\"https://colab.research.google.com/github/DannyRMoreno28/Big-Data/blob/main/Analisis_basico_Big_Data_PySpark.ipynb\" target=\"_parent\"><img src=\"https://colab.research.google.com/assets/colab-badge.svg\" alt=\"Open In Colab\"/></a>"
      ]
    },
    {
      "cell_type": "markdown",
      "metadata": {
        "id": "GjUqlnn4Cthq"
      },
      "source": [
        "#**Explorando el comportamiento de las ventas en una tienda en línea de cosméticos: un análisis de 12 millones de registros**"
      ]
    },
    {
      "cell_type": "markdown",
      "source": [
        "*Autor*\n",
        "\n",
        "Danny Alexander Rojas Moreno\n",
        "\n",
        "> [LinkedIn](https://www.linkedin.com/in/danny-alexander-rojas-moreno-a343a2196/)\n",
        "\n",
        "> dannymoreno.2805@gmail.com"
      ],
      "metadata": {
        "id": "9CeC_ZIkgMGw"
      }
    },
    {
      "cell_type": "markdown",
      "metadata": {
        "id": "_XHg1nfTf83Q"
      },
      "source": [
        "#**1. Instalación de herramientas**"
      ]
    },
    {
      "cell_type": "markdown",
      "metadata": {
        "id": "qQBDKqm9docg"
      },
      "source": [
        "##1.1. Instalación libreria _PySpark_ "
      ]
    },
    {
      "cell_type": "code",
      "execution_count": null,
      "metadata": {
        "id": "rpVNCSO2iGFw"
      },
      "outputs": [],
      "source": [
        "# Instalamos el OpenJDK 8 con apt-get.\n",
        "!apt-get install openjdk-8-jdk-headless -qq > /dev/null"
      ]
    },
    {
      "cell_type": "code",
      "execution_count": null,
      "metadata": {
        "id": "k52njfBAibkR"
      },
      "outputs": [],
      "source": [
        "# Configuramos la variable de entorno de Java.\n",
        "import os\n",
        "os.environ[\"JAVA_HOME\"] = \"/usr/lib/jvm/java-8-openjdk-amd64\""
      ]
    },
    {
      "cell_type": "code",
      "execution_count": null,
      "metadata": {
        "id": "ULfDmlGwilXY"
      },
      "outputs": [],
      "source": [
        "# Instalamos los paquetes de PySpark.\n",
        "!pip install -q pyspark\n",
        "!pip install -q findspark"
      ]
    },
    {
      "cell_type": "markdown",
      "metadata": {
        "id": "vJ-myhxpeN2e"
      },
      "source": [
        "##1.2. Instalación de dependencias"
      ]
    },
    {
      "cell_type": "code",
      "execution_count": null,
      "metadata": {
        "id": "uhK_Lzgqi4f0"
      },
      "outputs": [],
      "source": [
        " # Importamos pyspark\n",
        "import pyspark"
      ]
    },
    {
      "cell_type": "code",
      "execution_count": null,
      "metadata": {
        "id": "OpNwPkYWi8PV"
      },
      "outputs": [],
      "source": [
        "# Librerías básicas de análisis de datos.\n",
        "import numpy as np\n",
        "import pandas as pd"
      ]
    },
    {
      "cell_type": "code",
      "execution_count": null,
      "metadata": {
        "id": "UrSsrufdd-r9"
      },
      "outputs": [],
      "source": [
        "# Librerías básicas para graficar datos.\n",
        "import matplotlib as mpl\n",
        "import matplotlib.pyplot as plt\n",
        "import seaborn as sns"
      ]
    },
    {
      "cell_type": "code",
      "execution_count": null,
      "metadata": {
        "id": "EJjkVFYTR7H5"
      },
      "outputs": [],
      "source": [
        "import pyspark\n",
        "from pyspark.sql import SparkSession\n",
        "from pyspark.ml.regression import LinearRegression\n",
        "from pyspark.ml.feature import VectorAssembler\n",
        "from pyspark.sql.functions import dayofmonth\n",
        "from sklearn.metrics import mean_squared_error"
      ]
    },
    {
      "cell_type": "markdown",
      "metadata": {
        "id": "f2fRChwvYZxF"
      },
      "source": [
        "##1.2. Crear la sesion en la aplicacion Spark"
      ]
    },
    {
      "cell_type": "code",
      "execution_count": null,
      "metadata": {
        "id": "5Z6YT8DBobGj"
      },
      "outputs": [],
      "source": [
        "from pyspark.sql import SparkSession"
      ]
    },
    {
      "cell_type": "code",
      "execution_count": null,
      "metadata": {
        "id": "0fRVl-xKoXQj"
      },
      "outputs": [],
      "source": [
        "spark = SparkSession.builder.appName('finalproject')\\\n",
        "     .config('spark.master', 'local[4]')\\\n",
        "     .config('spark.shuffle.sql.partitions', 1)\\\n",
        "     .getOrCreate()\n",
        "\n",
        "### Comprencion\n",
        "## linea 1: crear el punto de entrada a la aplicacion Spark desde Python\n",
        "## linea 2: crear Spark session en mi portatil con 4 nucleos (modo cliente)\n",
        "## linea 3: shuffle hace perticiones para lograr un intercambio de datos entre tablas"
      ]
    },
    {
      "cell_type": "code",
      "execution_count": null,
      "metadata": {
        "colab": {
          "base_uri": "https://localhost:8080/",
          "height": 222
        },
        "id": "y36jywL3YoYe",
        "outputId": "75ba78b0-ffc4-46fc-a59e-640bff2ca6b0"
      },
      "outputs": [
        {
          "output_type": "execute_result",
          "data": {
            "text/plain": [
              "<pyspark.sql.session.SparkSession at 0x7f7a822da400>"
            ],
            "text/html": [
              "\n",
              "            <div>\n",
              "                <p><b>SparkSession - in-memory</b></p>\n",
              "                \n",
              "        <div>\n",
              "            <p><b>SparkContext</b></p>\n",
              "\n",
              "            <p><a href=\"http://da573fddf7b9:4040\">Spark UI</a></p>\n",
              "\n",
              "            <dl>\n",
              "              <dt>Version</dt>\n",
              "                <dd><code>v3.3.1</code></dd>\n",
              "              <dt>Master</dt>\n",
              "                <dd><code>local[4]</code></dd>\n",
              "              <dt>AppName</dt>\n",
              "                <dd><code>finalproject</code></dd>\n",
              "            </dl>\n",
              "        </div>\n",
              "        \n",
              "            </div>\n",
              "        "
            ]
          },
          "metadata": {},
          "execution_count": 20
        }
      ],
      "source": [
        "# Mostras las caracteristicas del SparkSession\n",
        "spark"
      ]
    },
    {
      "cell_type": "markdown",
      "metadata": {
        "id": "gh-CZtutfN1w"
      },
      "source": [
        "#**2. Entendimiento de los datos**"
      ]
    },
    {
      "cell_type": "markdown",
      "metadata": {
        "id": "3wpGdy0kfv2w"
      },
      "source": [
        "##2.1. Adquisición e integración de los datos"
      ]
    },
    {
      "cell_type": "markdown",
      "metadata": {
        "id": "A8XO1gwO6xM-"
      },
      "source": [
        "El conjunto de datos que se utilizó para la realización de este proyecto proviene de Kaggel y representan los diferentes eventos en la venta de productos de una tienda online de cosméticos. La base de datos contiene registros del comportamiento durante 3 meses (octubre a diciembre de 2019).\n",
        "\n",
        "Cada fila del archivo representa un evento. Todos los eventos están relacionados con productos y usuarios. Cada evento es como una relación de muchos a muchos entre productos y usuarios.\n",
        "\n",
        "A continuación, se hace una breve descripción de las diferentes variables que componen el conjunto de datos:\n",
        "\n",
        "*   **event_time**: fecha en que ocurrió el evento;\n",
        "*   **event_type**: tipo de evento (compra, ver, en carrito, remover del carrito);\n",
        "*   **product_id**: identificación única de los productos comercializados;\n",
        "*   **category_id**: identificación de la categoría a la que pertenecen los productos;\n",
        "*   **category_code**: no presento importancia en este análisis;\n",
        "*   **brand**: marca del producto;\n",
        "*   **price**: Precio de venta del producto; y\n",
        "*   **user_id**: identificación única del cliente (comprador).\n",
        "\n",
        "\n",
        "Para mayor información acerca de la base de datos puede acceder al siguiente link para descargar [Kaggel](https://www.kaggle.com/datasets/mkechinov/ecommerce-events-history-in-cosmetics-shop).\n",
        "\n",
        "\n",
        "\n",
        "\n"
      ]
    },
    {
      "cell_type": "markdown",
      "metadata": {
        "id": "mawweM49964Z"
      },
      "source": [
        "**Cargar base de datos**"
      ]
    },
    {
      "cell_type": "code",
      "execution_count": null,
      "metadata": {
        "id": "HR6FKASXoNru"
      },
      "outputs": [],
      "source": [
        "# Cargar y leeer los archivos csv y crear DataFrames en el formato Spark \n",
        "df_dec = spark.read.csv(\"/content/2019-Dec.csv\", inferSchema = True, header = True) # Diciembre 2019\n",
        "df_nov = spark.read.csv(\"/content/2019-Nov.csv\", inferSchema = True, header = True) # Noviembre 2019\n",
        "df_oct = spark.read.csv(\"/content/2019-Oct.csv\", inferSchema = True, header = True) # Octubre 2019"
      ]
    },
    {
      "cell_type": "markdown",
      "metadata": {
        "id": "6vSkR7IkfYWe"
      },
      "source": [
        "##2.2. Análisis exploratorio\n",
        "\n",
        "\n",
        "En este ítem del proyecto se emplearon métodos estadísticos descriptivos, junto a la visualización de datos para poder comprender de manera superficial el comportamiento de los datos que componen la BD estudio. Cabe resaltar, que debido a lo extensa que es la base de datos, en el análisis exploratorio nos enfocamos única y exclusivamente en el comportamiento de las vetas (purchase). De este modo, pasamos de una base de datos que contenía cerca de 12.271.406 de registros en total a 781.217 registros que representan únicamente las ventas realizadas entre los meses de octubre a diciembre de 2019."
      ]
    },
    {
      "cell_type": "markdown",
      "metadata": {
        "id": "GS3IMViWvbQC"
      },
      "source": [
        ">Número de registros por DF"
      ]
    },
    {
      "cell_type": "code",
      "execution_count": null,
      "metadata": {
        "colab": {
          "base_uri": "https://localhost:8080/"
        },
        "id": "wN4XeAynitP_",
        "outputId": "68230ed7-ec3b-4be9-92c1-fc53ce30a342"
      },
      "outputs": [
        {
          "output_type": "stream",
          "name": "stdout",
          "text": [
            "+-------------------+----------------+----------+-------------------+-------------+---------+-----+---------+--------------------+\n",
            "|         event_time|      event_type|product_id|        category_id|category_code|    brand|price|  user_id|        user_session|\n",
            "+-------------------+----------------+----------+-------------------+-------------+---------+-----+---------+--------------------+\n",
            "|2019-12-01 00:00:00|remove_from_cart|   5712790|1487580005268456287|         null|    f.o.x| 6.27|576802932|51d85cb0-897f-48d...|\n",
            "|2019-12-01 00:00:00|            view|   5764655|1487580005411062629|         null|      cnd|29.05|412120092|8adff31e-2051-489...|\n",
            "|2019-12-01 00:00:02|            cart|      4958|1487580009471148064|         null|   runail| 1.19|494077766|c99a50e8-2fac-4c4...|\n",
            "|2019-12-01 00:00:05|            view|   5848413|1487580007675986893|         null|freedecor| 0.79|348405118|722ffea5-73c0-492...|\n",
            "|2019-12-01 00:00:07|            view|   5824148|1487580005511725929|         null|     null| 5.56|576005683|28172809-7e4a-45c...|\n",
            "+-------------------+----------------+----------+-------------------+-------------+---------+-----+---------+--------------------+\n",
            "\n",
            "La base de datos del mes de diciembre contiene 3533286 registos.\n"
          ]
        }
      ],
      "source": [
        "#Mostrar las primeras 3 lineas que conformar el df_dec (datos de diciembre 2019).\n",
        "df_dec.limit(5).show()\n",
        "regDec = df_dec.count()\n",
        "print(\"La base de datos del mes de diciembre contiene %d registos.\" % df_dec.count())"
      ]
    },
    {
      "cell_type": "code",
      "execution_count": null,
      "metadata": {
        "colab": {
          "base_uri": "https://localhost:8080/"
        },
        "id": "9OUrUHO_ijWT",
        "outputId": "0f71b907-2fc6-41af-944b-512ebe15861c"
      },
      "outputs": [
        {
          "output_type": "stream",
          "name": "stdout",
          "text": [
            "+-------------------+----------------+----------+-------------------+-------------+--------+-----+---------+--------------------+\n",
            "|         event_time|      event_type|product_id|        category_id|category_code|   brand|price|  user_id|        user_session|\n",
            "+-------------------+----------------+----------+-------------------+-------------+--------+-----+---------+--------------------+\n",
            "|2019-11-01 00:00:02|            view|   5802432|1487580009286598681|         null|    null| 0.32|562076640|09fafd6c-6c99-46b...|\n",
            "|2019-11-01 00:00:09|            cart|   5844397|1487580006317032337|         null|    null| 2.38|553329724|2067216c-31b5-455...|\n",
            "|2019-11-01 00:00:10|            view|   5837166|1783999064103190764|         null|     pnb|22.22|556138645|57ed222e-a54a-490...|\n",
            "|2019-11-01 00:00:11|            cart|   5876812|1487580010100293687|         null|jessnail| 3.16|564506666|186c1951-8052-4b3...|\n",
            "|2019-11-01 00:00:24|remove_from_cart|   5826182|1487580007483048900|         null|    null| 3.33|553329724|2067216c-31b5-455...|\n",
            "+-------------------+----------------+----------+-------------------+-------------+--------+-----+---------+--------------------+\n",
            "\n",
            "La base de datos del mes de noviembre contiene 4635837 registos.\n"
          ]
        }
      ],
      "source": [
        "# Mostrar las primeras 3 lineas que conformar el df_nov (datos de noviembre 2019).\n",
        "df_nov.limit(5).show()\n",
        "regNov = df_nov.count()\n",
        "print(\"La base de datos del mes de noviembre contiene %d registos.\" % df_nov.count())"
      ]
    },
    {
      "cell_type": "code",
      "execution_count": null,
      "metadata": {
        "colab": {
          "base_uri": "https://localhost:8080/"
        },
        "id": "ffFfu2y1RjaQ",
        "outputId": "ce9c8bf6-cdaf-4be2-ca6f-77593aa4c0ed"
      },
      "outputs": [
        {
          "output_type": "stream",
          "name": "stdout",
          "text": [
            "+-------------------+----------+----------+-------------------+-------------+------+-----+---------+--------------------+\n",
            "|         event_time|event_type|product_id|        category_id|category_code| brand|price|  user_id|        user_session|\n",
            "+-------------------+----------+----------+-------------------+-------------+------+-----+---------+--------------------+\n",
            "|2019-10-01 00:00:00|      cart|   5773203|1487580005134238553|         null|runail| 2.62|463240011|26dd6e6e-4dac-477...|\n",
            "|2019-10-01 00:00:03|      cart|   5773353|1487580005134238553|         null|runail| 2.62|463240011|26dd6e6e-4dac-477...|\n",
            "|2019-10-01 00:00:07|      cart|   5881589|2151191071051219817|         null|lovely|13.48|429681830|49e8d843-adf3-428...|\n",
            "|2019-10-01 00:00:07|      cart|   5723490|1487580005134238553|         null|runail| 2.62|463240011|26dd6e6e-4dac-477...|\n",
            "|2019-10-01 00:00:15|      cart|   5881449|1487580013522845895|         null|lovely| 0.56|429681830|49e8d843-adf3-428...|\n",
            "+-------------------+----------+----------+-------------------+-------------+------+-----+---------+--------------------+\n",
            "\n",
            "La base de datos del mes de octubre contiene 4102283 registos.\n"
          ]
        }
      ],
      "source": [
        "# Mostrar las primeras 3 lineas que conformar el df_nov (datos de noviembre 2019).\n",
        "df_oct.limit(5).show()\n",
        "regOct = df_oct.count()\n",
        "print(\"La base de datos del mes de octubre contiene %d registos.\" % df_oct.count())"
      ]
    },
    {
      "cell_type": "code",
      "execution_count": null,
      "metadata": {
        "id": "eXKwN53dR9Y_"
      },
      "outputs": [],
      "source": [
        "# Crear listas con las caracteristicas de cada archivo csv\n",
        "columnas = ['Año', 'Mes', 'N° registros']\n",
        "registros = [(2019, 'Diciembre', regDec), \n",
        "             (2019, 'Noviembre', regNov), \n",
        "             (2019, 'Octubre', regOct)]"
      ]
    },
    {
      "cell_type": "markdown",
      "metadata": {
        "id": "RLrrxUC7lA9Z"
      },
      "source": [
        ">**Tabla del número de registros existentes por mes**"
      ]
    },
    {
      "cell_type": "code",
      "execution_count": null,
      "metadata": {
        "colab": {
          "base_uri": "https://localhost:8080/"
        },
        "id": "fXPCxm_-fNwy",
        "outputId": "1f92c74f-bf30-4a05-b947-60cfb4bf7f51"
      },
      "outputs": [
        {
          "output_type": "stream",
          "name": "stdout",
          "text": [
            "+----+---------+------------+\n",
            "| Año|      Mes|N° registros|\n",
            "+----+---------+------------+\n",
            "|2019|Diciembre|     3533286|\n",
            "|2019|Noviembre|     4635837|\n",
            "|2019|  Octubre|     4102283|\n",
            "+----+---------+------------+\n",
            "\n"
          ]
        }
      ],
      "source": [
        "# Crear dataframe con Spark q muestre en numero de registros por mes y año\n",
        "dfCont = spark.createDataFrame(registros, schema = columnas)\n",
        "dfCont.show()"
      ]
    },
    {
      "cell_type": "code",
      "execution_count": null,
      "metadata": {
        "id": "v7cNS5Hd8r1w"
      },
      "outputs": [],
      "source": [
        "# Importamos libreria que permite usar funciones matematicas (ej: sum, mean, max, min) \n",
        "# pyspark.sql --> Structured Data\n",
        "from pyspark.sql.functions import *"
      ]
    },
    {
      "cell_type": "code",
      "execution_count": null,
      "metadata": {
        "colab": {
          "base_uri": "https://localhost:8080/"
        },
        "id": "hBaeQQsfFaqY",
        "outputId": "32b8d238-d6ed-4dd9-9214-ca567d47c9d6"
      },
      "outputs": [
        {
          "output_type": "execute_result",
          "data": {
            "text/plain": [
              "12271406"
            ]
          },
          "metadata": {},
          "execution_count": 28
        }
      ],
      "source": [
        "# Sumatoria del numero de registros existentes en el periodo analizado \n",
        "dfCont.agg({'N° registros': 'sum'}).collect()[0][0]"
      ]
    },
    {
      "cell_type": "markdown",
      "metadata": {
        "id": "SKB9UH9cAUxD"
      },
      "source": [
        "> Nombre de cada columna que conforman los dataframe"
      ]
    },
    {
      "cell_type": "code",
      "execution_count": null,
      "metadata": {
        "colab": {
          "base_uri": "https://localhost:8080/"
        },
        "id": "HUjfiPlNuXWo",
        "outputId": "5910fcd7-2d8f-4bff-c913-aba82e586274"
      },
      "outputs": [
        {
          "output_type": "stream",
          "name": "stdout",
          "text": [
            "Columnas --> df_dic\n",
            "root\n",
            " |-- event_time: timestamp (nullable = true)\n",
            " |-- event_type: string (nullable = true)\n",
            " |-- product_id: integer (nullable = true)\n",
            " |-- category_id: long (nullable = true)\n",
            " |-- category_code: string (nullable = true)\n",
            " |-- brand: string (nullable = true)\n",
            " |-- price: double (nullable = true)\n",
            " |-- user_id: integer (nullable = true)\n",
            " |-- user_session: string (nullable = true)\n",
            "\n",
            "Columnas -->  df_nov\n",
            "root\n",
            " |-- event_time: timestamp (nullable = true)\n",
            " |-- event_type: string (nullable = true)\n",
            " |-- product_id: integer (nullable = true)\n",
            " |-- category_id: long (nullable = true)\n",
            " |-- category_code: string (nullable = true)\n",
            " |-- brand: string (nullable = true)\n",
            " |-- price: double (nullable = true)\n",
            " |-- user_id: integer (nullable = true)\n",
            " |-- user_session: string (nullable = true)\n",
            "\n",
            "Columnas -->  df_oct\n",
            "root\n",
            " |-- event_time: timestamp (nullable = true)\n",
            " |-- event_type: string (nullable = true)\n",
            " |-- product_id: integer (nullable = true)\n",
            " |-- category_id: long (nullable = true)\n",
            " |-- category_code: string (nullable = true)\n",
            " |-- brand: string (nullable = true)\n",
            " |-- price: double (nullable = true)\n",
            " |-- user_id: integer (nullable = true)\n",
            " |-- user_session: string (nullable = true)\n",
            "\n"
          ]
        }
      ],
      "source": [
        "# Verificamos los tipos inferidos imprimiendo el esquema de cada archivo.\n",
        "\n",
        "print('Columnas --> df_dic')\n",
        "df_dec.printSchema()\n",
        "print('Columnas -->  df_nov')\n",
        "df_nov.printSchema()\n",
        "print('Columnas -->  df_oct')\n",
        "df_oct.printSchema()"
      ]
    },
    {
      "cell_type": "markdown",
      "metadata": {
        "id": "1dxQmomKAf_T"
      },
      "source": [
        "> Valores unicos en los estados de compra"
      ]
    },
    {
      "cell_type": "code",
      "execution_count": null,
      "metadata": {
        "colab": {
          "base_uri": "https://localhost:8080/"
        },
        "id": "HSY-7wYrBCgO",
        "outputId": "eec2b98d-3851-4857-aaf3-5fbb4101f16e"
      },
      "outputs": [
        {
          "output_type": "stream",
          "name": "stdout",
          "text": [
            "+----------------+\n",
            "|      event_type|\n",
            "+----------------+\n",
            "|        purchase|\n",
            "|            view|\n",
            "|            cart|\n",
            "|remove_from_cart|\n",
            "+----------------+\n",
            "\n"
          ]
        }
      ],
      "source": [
        "# Mostrar Valores unicos en la columna \"event_type\"\n",
        "df_dec.select(\"event_type\").distinct().show()"
      ]
    },
    {
      "cell_type": "code",
      "execution_count": null,
      "metadata": {
        "colab": {
          "base_uri": "https://localhost:8080/"
        },
        "id": "vcD_6XK_4U00",
        "outputId": "8cf623ed-123a-42ba-bd74-7dfcfc7c6ba0"
      },
      "outputs": [
        {
          "output_type": "stream",
          "name": "stdout",
          "text": [
            "+----------------+-------+\n",
            "|      event_type|  count|\n",
            "+----------------+-------+\n",
            "|        purchase| 213176|\n",
            "|            view|1728331|\n",
            "|            cart| 927124|\n",
            "|remove_from_cart| 664655|\n",
            "+----------------+-------+\n",
            "\n"
          ]
        }
      ],
      "source": [
        "# Contabilizar y mostrar valores unicos\n",
        "df_dec.groupBy('event_type').count().show()"
      ]
    },
    {
      "cell_type": "markdown",
      "metadata": {
        "id": "jzKgdnLSAzm7"
      },
      "source": [
        "###2.2.1. Analisis descriptivo de las venta"
      ]
    },
    {
      "cell_type": "code",
      "execution_count": null,
      "metadata": {
        "colab": {
          "base_uri": "https://localhost:8080/"
        },
        "id": "_Kj2Z5bclQq1",
        "outputId": "5aea24a0-4e60-4400-e9fc-903fe460544a"
      },
      "outputs": [
        {
          "output_type": "stream",
          "name": "stdout",
          "text": [
            "+-------------------+----------+----------+-------------------+-------------+------+-----+---------+--------------------+\n",
            "|         event_time|event_type|product_id|        category_id|category_code| brand|price|  user_id|        user_session|\n",
            "+-------------------+----------+----------+-------------------+-------------+------+-----+---------+--------------------+\n",
            "|2019-12-01 00:17:50|  purchase|      4554|1487580010796548183|         null|runail| 0.38|473613801|d1e90c6a-c030-4d0...|\n",
            "|2019-12-01 00:17:50|  purchase|      4600|1487580010796548183|         null|runail| 0.38|473613801|d1e90c6a-c030-4d0...|\n",
            "|2019-12-01 00:17:50|  purchase|      4607|1487580010796548183|         null|runail| 0.38|473613801|d1e90c6a-c030-4d0...|\n",
            "|2019-12-01 00:17:50|  purchase|      4640|1487580011157258342|         null|runail| 0.37|473613801|d1e90c6a-c030-4d0...|\n",
            "|2019-12-01 00:17:50|  purchase|      4689|1487580010796548183|         null|runail| 0.38|473613801|d1e90c6a-c030-4d0...|\n",
            "+-------------------+----------+----------+-------------------+-------------+------+-----+---------+--------------------+\n",
            "\n"
          ]
        }
      ],
      "source": [
        "# Crear DF con todos los productos vendidos en el mes de diciembre\n",
        "\n",
        "df_sales_dec = df_dec.filter((df_dec.event_type).isin(['purchase'])) #filtarmos por la columna \"event_type\" los registros 'purchase'\n",
        "df_sales_dec.limit(5).show()"
      ]
    },
    {
      "cell_type": "code",
      "execution_count": null,
      "metadata": {
        "id": "d7BxpEiw3IGM"
      },
      "outputs": [],
      "source": [
        "# Otra manera de filtral\n",
        "#df_sales_dec = df_dec.filter(df_dec['event_type']=='purchase').show()"
      ]
    },
    {
      "cell_type": "code",
      "execution_count": null,
      "metadata": {
        "colab": {
          "base_uri": "https://localhost:8080/"
        },
        "id": "aTNIPHXp4iQ8",
        "outputId": "0908c419-c085-488d-dc43-6fc2081f1572"
      },
      "outputs": [
        {
          "output_type": "stream",
          "name": "stdout",
          "text": [
            "+-------+-----------------+\n",
            "|summary|            price|\n",
            "+-------+-----------------+\n",
            "|  count|           213176|\n",
            "|   mean|5.055094616654666|\n",
            "| stddev|9.066076783528247|\n",
            "|    min|           -79.37|\n",
            "|    max|           327.78|\n",
            "+-------+-----------------+\n",
            "\n"
          ]
        }
      ],
      "source": [
        "# Analisis descriptivo de las ventas realizadas en diciembre 2019\n",
        "\n",
        "df_sales_dec.describe('price').show()"
      ]
    },
    {
      "cell_type": "code",
      "execution_count": null,
      "metadata": {
        "colab": {
          "base_uri": "https://localhost:8080/"
        },
        "id": "X-DgCKepCmWk",
        "outputId": "c17a2501-353a-452b-ce2a-560be42a66e4"
      },
      "outputs": [
        {
          "output_type": "stream",
          "name": "stdout",
          "text": [
            "+-------------------+----------+----------+-------------------+-------------+---------+-----+---------+--------------------+\n",
            "|         event_time|event_type|product_id|        category_id|category_code|    brand|price|  user_id|        user_session|\n",
            "+-------------------+----------+----------+-------------------+-------------+---------+-----+---------+--------------------+\n",
            "|2019-11-01 00:01:57|  purchase|   5839412|1487580006551913373|         null|   lovely| 3.16|460304619|9f777569-bdf3-47e...|\n",
            "|2019-11-01 00:01:57|  purchase|   5823969|1487580005268456287|         null|      uno|17.46|460304619|9f777569-bdf3-47e...|\n",
            "|2019-11-01 00:01:57|  purchase|   5810480|1487580011283087468|         null|     null|22.54|460304619|9f777569-bdf3-47e...|\n",
            "|2019-11-01 00:04:33|  purchase|     24380|1487580012994363565|         null|depilflax| 5.24|564451209|861ab2f1-b2e5-886...|\n",
            "|2019-11-01 00:04:33|  purchase|     26765|1487580013522845895|         null|   ardell| 7.16|564451209|861ab2f1-b2e5-886...|\n",
            "+-------------------+----------+----------+-------------------+-------------+---------+-----+---------+--------------------+\n",
            "\n"
          ]
        }
      ],
      "source": [
        "# Crear DF con todos los productos vendidos en el mes de noviembre\n",
        "\n",
        "df_sales_nov = df_nov.filter((df_nov.event_type).isin(['purchase'])) #filtarmos por la columna \"event_type\" los registros 'purchase'\n",
        "df_sales_nov.limit(5).show()"
      ]
    },
    {
      "cell_type": "code",
      "execution_count": null,
      "metadata": {
        "colab": {
          "base_uri": "https://localhost:8080/"
        },
        "id": "8NzCQqV1Pt7m",
        "outputId": "d5d8ddbd-5445-4b26-ea24-22326dc326b5"
      },
      "outputs": [
        {
          "output_type": "stream",
          "name": "stdout",
          "text": [
            "+-------+------------------+\n",
            "|summary|             price|\n",
            "+-------+------------------+\n",
            "|  count|            322417|\n",
            "|   mean|4.7485613351652285|\n",
            "| stddev| 8.785150357806241|\n",
            "|    min|            -79.37|\n",
            "|    max|            311.38|\n",
            "+-------+------------------+\n",
            "\n"
          ]
        }
      ],
      "source": [
        "# Analisis descriptivo de las ventas realizadas en noviembre 2019\n",
        "\n",
        "df_sales_nov.describe('price').show()"
      ]
    },
    {
      "cell_type": "code",
      "execution_count": null,
      "metadata": {
        "colab": {
          "base_uri": "https://localhost:8080/"
        },
        "id": "2mi8FKMZkNi4",
        "outputId": "18854e0e-a154-49d1-e46a-e4483d85681b"
      },
      "outputs": [
        {
          "output_type": "stream",
          "name": "stdout",
          "text": [
            "+-------------------+----------+----------+-------------------+-------------+------+-----+---------+--------------------+\n",
            "|         event_time|event_type|product_id|        category_id|category_code| brand|price|  user_id|        user_session|\n",
            "+-------------------+----------+----------+-------------------+-------------+------+-----+---------+--------------------+\n",
            "|2019-10-01 00:06:35|  purchase|   5619862|1487580006895846315|         null|runail| 5.32|474232307|445f2b74-5e4c-427...|\n",
            "|2019-10-01 00:06:35|  purchase|   5619866|1487580006895846315|         null|runail| 2.86|474232307|445f2b74-5e4c-427...|\n",
            "|2019-10-01 00:06:35|  purchase|   5696184|1487580005134238553|         null|runail| 2.38|474232307|445f2b74-5e4c-427...|\n",
            "|2019-10-01 00:06:35|  purchase|   5706784|1487580005092295511|         null|runail| 4.44|474232307|445f2b74-5e4c-427...|\n",
            "|2019-10-01 00:06:35|  purchase|   5723503|1487580005134238553|         null|runail| 2.62|474232307|445f2b74-5e4c-427...|\n",
            "+-------------------+----------+----------+-------------------+-------------+------+-----+---------+--------------------+\n",
            "\n"
          ]
        }
      ],
      "source": [
        "# Crear DF con todos los productos vendidos en el mes de noviembre\n",
        "\n",
        "df_sales_oct = df_oct.filter((df_oct.event_type).isin(['purchase'])) #filtarmos por la columna \"event_type\" los registros 'purchase'\n",
        "df_sales_oct.limit(5).show()"
      ]
    },
    {
      "cell_type": "code",
      "execution_count": null,
      "metadata": {
        "colab": {
          "base_uri": "https://localhost:8080/"
        },
        "id": "K96r4nM3QDhd",
        "outputId": "8197c7ae-6fe6-4f69-ac70-e9db4ed25e92"
      },
      "outputs": [
        {
          "output_type": "stream",
          "name": "stdout",
          "text": [
            "+-------+-----------------+\n",
            "|summary|            price|\n",
            "+-------+-----------------+\n",
            "|  count|           245624|\n",
            "|   mean|4.932492061036379|\n",
            "| stddev|8.955012576338564|\n",
            "|    min|           -79.37|\n",
            "|    max|           299.81|\n",
            "+-------+-----------------+\n",
            "\n"
          ]
        }
      ],
      "source": [
        "# Analisis descriptivo de las ventas realizadas en noviembre 2019\n",
        "\n",
        "df_sales_oct.describe('price').show()"
      ]
    },
    {
      "cell_type": "code",
      "execution_count": null,
      "metadata": {
        "id": "xGnrYPr53J_a"
      },
      "outputs": [],
      "source": [
        "# Almacenar el conteo de numero de ventas realizados en cada mes analizado\n",
        "salesAcouDec = df_sales_dec.count()\n",
        "salesAcouNov = df_sales_nov.count()\n",
        "salesAcouOct = df_sales_oct.count()"
      ]
    },
    {
      "cell_type": "code",
      "execution_count": null,
      "metadata": {
        "id": "yqGiqVgj1c5d"
      },
      "outputs": [],
      "source": [
        "### ASI NO SIRVE, arroja un objeto tipo lista ###\n",
        "# Almacenar la sumatoria de ventas para cada mes analizado\n",
        "# salesDec = df_sales_dec.select(sum('price'))\n",
        "# salesNov = df_sales_nov.select(sum('price'))\n",
        "# salesOct = df_sales_oct.select(sum('price'))"
      ]
    },
    {
      "cell_type": "code",
      "execution_count": null,
      "metadata": {
        "id": "mWldFO6F--VB"
      },
      "outputs": [],
      "source": [
        "# Almacenar la sumatoria de ventas para cada mes analizado\n",
        "\n",
        "salesDec = df_sales_dec.agg({'price': 'sum'}).collect()[0][0]\n",
        "salesNov = df_sales_nov.agg({'price': 'sum'}).collect()[0][0]\n",
        "salesOct = df_sales_oct.agg({'price': 'sum'}).collect()[0][0]"
      ]
    },
    {
      "cell_type": "code",
      "execution_count": null,
      "metadata": {
        "id": "YSjiYNTWkeQm"
      },
      "outputs": [],
      "source": [
        "# Crear listas con las caracteristicas de cada archivo csv\n",
        "registroVentas = [(2019, 'Diciembre', salesAcouDec, salesDec), \n",
        "             (2019, 'Noviembre', salesAcouNov, salesNov), \n",
        "             (2019, 'Octubre', salesAcouOct, salesOct)]"
      ]
    },
    {
      "cell_type": "code",
      "execution_count": null,
      "metadata": {
        "id": "NE8fm8CQ5uN7"
      },
      "outputs": [],
      "source": [
        "from pyspark.sql.types import *\n",
        "\n",
        "schema_1 = StructType(\n",
        "    [\n",
        "        StructField('Año', IntegerType(), True),\n",
        "        StructField('Mes', StringType(), True),\n",
        "        StructField('N° ventas', IntegerType(), True),\n",
        "        StructField('Valor (US$)', DoubleType(), True),     \n",
        "    ]\n",
        ")"
      ]
    },
    {
      "cell_type": "markdown",
      "metadata": {
        "id": "cZ85pM0okr6Y"
      },
      "source": [
        ">**Tabla del número de ventas y valores monetarios de las mismas por mes**"
      ]
    },
    {
      "cell_type": "code",
      "execution_count": null,
      "metadata": {
        "colab": {
          "base_uri": "https://localhost:8080/"
        },
        "id": "CVw3g6ZekaY-",
        "outputId": "4f9a9d9f-b62e-4c64-80ea-fec3c5be5a10"
      },
      "outputs": [
        {
          "output_type": "stream",
          "name": "stdout",
          "text": [
            "+----+---------+---------+------------------+\n",
            "| Año|      Mes|N° ventas|       Valor (US$)|\n",
            "+----+---------+---------+------------------+\n",
            "|2019|Diciembre|   213176|1077624.8499999752|\n",
            "|2019|Noviembre|   322417|1531016.8999999675|\n",
            "|2019|  Octubre|   245624|1211538.4299999997|\n",
            "+----+---------+---------+------------------+\n",
            "\n"
          ]
        }
      ],
      "source": [
        "# Crear dataframe con Spark q muestre en numero de registros por mes y año\n",
        "dfSales = spark.createDataFrame(registroVentas, schema = schema_1)\n",
        "dfSales.show()"
      ]
    },
    {
      "cell_type": "code",
      "execution_count": null,
      "metadata": {
        "colab": {
          "base_uri": "https://localhost:8080/"
        },
        "id": "4UVUYdenC9oR",
        "outputId": "86264a01-1417-414c-8c43-ab37493d098b"
      },
      "outputs": [
        {
          "output_type": "execute_result",
          "data": {
            "text/plain": [
              "781217"
            ]
          },
          "metadata": {},
          "execution_count": 45
        }
      ],
      "source": [
        "# Numero transacciones (ventas) realizadas en el periodo analizado\n",
        "dfSales.agg({'N° ventas': 'sum'}).collect()[0][0]"
      ]
    },
    {
      "cell_type": "code",
      "execution_count": null,
      "metadata": {
        "colab": {
          "base_uri": "https://localhost:8080/"
        },
        "id": "AKH07oq0CJy6",
        "outputId": "11f62e53-addc-4162-d3d7-021b4e883724"
      },
      "outputs": [
        {
          "output_type": "execute_result",
          "data": {
            "text/plain": [
              "3820180.1799999424"
            ]
          },
          "metadata": {},
          "execution_count": 46
        }
      ],
      "source": [
        "# Valor total de ventas en el periodo analizado\n",
        "dfSales.agg({'Valor (US$)': 'sum'}).collect()[0][0]"
      ]
    },
    {
      "cell_type": "markdown",
      "metadata": {
        "id": "PWthVK59ADn5"
      },
      "source": [
        "Observamos que el número de transacciones realizadas entre los 3 meses analizados fue de 781.217 registros que representan únicamente las ventas realizadas entre los meses de octubre a diciembre de 2019. Por otro lado, el valor de dichas ventas representó un total de U$ 3.820.178."
      ]
    },
    {
      "cell_type": "markdown",
      "metadata": {
        "id": "4JhAYBidEhP5"
      },
      "source": [
        "### 2.2.2. Visualización del comportamiento de las ventas "
      ]
    },
    {
      "cell_type": "markdown",
      "metadata": {
        "id": "OoQDUdIU6M9l"
      },
      "source": [
        "Para poder visualizar los datos convertimos los dataframes tipo Spark a Pandas, de esta manera concatenamos los registros de los 3 meses a analizar y procedemos a graficar su comportamiento para un mejor entendimiento del dataset."
      ]
    },
    {
      "cell_type": "code",
      "execution_count": null,
      "metadata": {
        "colab": {
          "base_uri": "https://localhost:8080/"
        },
        "id": "YYQlzO7UkTQX",
        "outputId": "e72d3034-dbf4-4292-b9f1-a2d5fa479504"
      },
      "outputs": [
        {
          "output_type": "stream",
          "name": "stdout",
          "text": [
            "<class 'pandas.core.frame.DataFrame'>\n",
            "<class 'pandas.core.frame.DataFrame'>\n",
            "<class 'pandas.core.frame.DataFrame'>\n"
          ]
        }
      ],
      "source": [
        "# Crear dataframe para cada mes a analizar y convertir los dataframes a tipo Pandas.\n",
        "\n",
        "df_pd_sales_dec = df_sales_dec.drop('product_id', 'category_id', 'brand', 'category_code', 'user_session').toPandas()\n",
        "print(type(df_pd_sales_dec))\n",
        "df_pd_sales_nov = df_sales_nov.drop('product_id', 'category_id', 'brand', 'category_code', 'user_session').toPandas()\n",
        "print(type(df_pd_sales_nov))\n",
        "df_pd_sales_oct = df_sales_oct.drop('product_id', 'category_id', 'brand', 'category_code', 'user_session').toPandas()\n",
        "print(type(df_pd_sales_oct))"
      ]
    },
    {
      "cell_type": "code",
      "execution_count": null,
      "metadata": {
        "colab": {
          "base_uri": "https://localhost:8080/",
          "height": 206
        },
        "id": "fUcI2POAkU9T",
        "outputId": "0b7c7b5e-fc01-4edf-b8ab-19714a5b90f5"
      },
      "outputs": [
        {
          "output_type": "execute_result",
          "data": {
            "text/plain": [
              "           event_time event_type  price    user_id\n",
              "0 2019-12-01 00:17:50   purchase   0.38  473613801\n",
              "1 2019-12-01 00:17:50   purchase   0.38  473613801\n",
              "2 2019-12-01 00:17:50   purchase   0.38  473613801\n",
              "3 2019-12-01 00:17:50   purchase   0.37  473613801\n",
              "4 2019-12-01 00:17:50   purchase   0.38  473613801"
            ],
            "text/html": [
              "\n",
              "  <div id=\"df-cc93098d-c85e-42d7-a402-5b19663b6ac6\">\n",
              "    <div class=\"colab-df-container\">\n",
              "      <div>\n",
              "<style scoped>\n",
              "    .dataframe tbody tr th:only-of-type {\n",
              "        vertical-align: middle;\n",
              "    }\n",
              "\n",
              "    .dataframe tbody tr th {\n",
              "        vertical-align: top;\n",
              "    }\n",
              "\n",
              "    .dataframe thead th {\n",
              "        text-align: right;\n",
              "    }\n",
              "</style>\n",
              "<table border=\"1\" class=\"dataframe\">\n",
              "  <thead>\n",
              "    <tr style=\"text-align: right;\">\n",
              "      <th></th>\n",
              "      <th>event_time</th>\n",
              "      <th>event_type</th>\n",
              "      <th>price</th>\n",
              "      <th>user_id</th>\n",
              "    </tr>\n",
              "  </thead>\n",
              "  <tbody>\n",
              "    <tr>\n",
              "      <th>0</th>\n",
              "      <td>2019-12-01 00:17:50</td>\n",
              "      <td>purchase</td>\n",
              "      <td>0.38</td>\n",
              "      <td>473613801</td>\n",
              "    </tr>\n",
              "    <tr>\n",
              "      <th>1</th>\n",
              "      <td>2019-12-01 00:17:50</td>\n",
              "      <td>purchase</td>\n",
              "      <td>0.38</td>\n",
              "      <td>473613801</td>\n",
              "    </tr>\n",
              "    <tr>\n",
              "      <th>2</th>\n",
              "      <td>2019-12-01 00:17:50</td>\n",
              "      <td>purchase</td>\n",
              "      <td>0.38</td>\n",
              "      <td>473613801</td>\n",
              "    </tr>\n",
              "    <tr>\n",
              "      <th>3</th>\n",
              "      <td>2019-12-01 00:17:50</td>\n",
              "      <td>purchase</td>\n",
              "      <td>0.37</td>\n",
              "      <td>473613801</td>\n",
              "    </tr>\n",
              "    <tr>\n",
              "      <th>4</th>\n",
              "      <td>2019-12-01 00:17:50</td>\n",
              "      <td>purchase</td>\n",
              "      <td>0.38</td>\n",
              "      <td>473613801</td>\n",
              "    </tr>\n",
              "  </tbody>\n",
              "</table>\n",
              "</div>\n",
              "      <button class=\"colab-df-convert\" onclick=\"convertToInteractive('df-cc93098d-c85e-42d7-a402-5b19663b6ac6')\"\n",
              "              title=\"Convert this dataframe to an interactive table.\"\n",
              "              style=\"display:none;\">\n",
              "        \n",
              "  <svg xmlns=\"http://www.w3.org/2000/svg\" height=\"24px\"viewBox=\"0 0 24 24\"\n",
              "       width=\"24px\">\n",
              "    <path d=\"M0 0h24v24H0V0z\" fill=\"none\"/>\n",
              "    <path d=\"M18.56 5.44l.94 2.06.94-2.06 2.06-.94-2.06-.94-.94-2.06-.94 2.06-2.06.94zm-11 1L8.5 8.5l.94-2.06 2.06-.94-2.06-.94L8.5 2.5l-.94 2.06-2.06.94zm10 10l.94 2.06.94-2.06 2.06-.94-2.06-.94-.94-2.06-.94 2.06-2.06.94z\"/><path d=\"M17.41 7.96l-1.37-1.37c-.4-.4-.92-.59-1.43-.59-.52 0-1.04.2-1.43.59L10.3 9.45l-7.72 7.72c-.78.78-.78 2.05 0 2.83L4 21.41c.39.39.9.59 1.41.59.51 0 1.02-.2 1.41-.59l7.78-7.78 2.81-2.81c.8-.78.8-2.07 0-2.86zM5.41 20L4 18.59l7.72-7.72 1.47 1.35L5.41 20z\"/>\n",
              "  </svg>\n",
              "      </button>\n",
              "      \n",
              "  <style>\n",
              "    .colab-df-container {\n",
              "      display:flex;\n",
              "      flex-wrap:wrap;\n",
              "      gap: 12px;\n",
              "    }\n",
              "\n",
              "    .colab-df-convert {\n",
              "      background-color: #E8F0FE;\n",
              "      border: none;\n",
              "      border-radius: 50%;\n",
              "      cursor: pointer;\n",
              "      display: none;\n",
              "      fill: #1967D2;\n",
              "      height: 32px;\n",
              "      padding: 0 0 0 0;\n",
              "      width: 32px;\n",
              "    }\n",
              "\n",
              "    .colab-df-convert:hover {\n",
              "      background-color: #E2EBFA;\n",
              "      box-shadow: 0px 1px 2px rgba(60, 64, 67, 0.3), 0px 1px 3px 1px rgba(60, 64, 67, 0.15);\n",
              "      fill: #174EA6;\n",
              "    }\n",
              "\n",
              "    [theme=dark] .colab-df-convert {\n",
              "      background-color: #3B4455;\n",
              "      fill: #D2E3FC;\n",
              "    }\n",
              "\n",
              "    [theme=dark] .colab-df-convert:hover {\n",
              "      background-color: #434B5C;\n",
              "      box-shadow: 0px 1px 3px 1px rgba(0, 0, 0, 0.15);\n",
              "      filter: drop-shadow(0px 1px 2px rgba(0, 0, 0, 0.3));\n",
              "      fill: #FFFFFF;\n",
              "    }\n",
              "  </style>\n",
              "\n",
              "      <script>\n",
              "        const buttonEl =\n",
              "          document.querySelector('#df-cc93098d-c85e-42d7-a402-5b19663b6ac6 button.colab-df-convert');\n",
              "        buttonEl.style.display =\n",
              "          google.colab.kernel.accessAllowed ? 'block' : 'none';\n",
              "\n",
              "        async function convertToInteractive(key) {\n",
              "          const element = document.querySelector('#df-cc93098d-c85e-42d7-a402-5b19663b6ac6');\n",
              "          const dataTable =\n",
              "            await google.colab.kernel.invokeFunction('convertToInteractive',\n",
              "                                                     [key], {});\n",
              "          if (!dataTable) return;\n",
              "\n",
              "          const docLinkHtml = 'Like what you see? Visit the ' +\n",
              "            '<a target=\"_blank\" href=https://colab.research.google.com/notebooks/data_table.ipynb>data table notebook</a>'\n",
              "            + ' to learn more about interactive tables.';\n",
              "          element.innerHTML = '';\n",
              "          dataTable['output_type'] = 'display_data';\n",
              "          await google.colab.output.renderOutput(dataTable, element);\n",
              "          const docLink = document.createElement('div');\n",
              "          docLink.innerHTML = docLinkHtml;\n",
              "          element.appendChild(docLink);\n",
              "        }\n",
              "      </script>\n",
              "    </div>\n",
              "  </div>\n",
              "  "
            ]
          },
          "metadata": {},
          "execution_count": 48
        }
      ],
      "source": [
        "# Crear un darafarme tipo Pandas que contiene las ventas realizadas en todos los meses\n",
        "\n",
        "df_pd_sales_total = pd.concat([df_pd_sales_dec, df_pd_sales_nov, df_pd_sales_oct], axis=0)\n",
        "df_pd_sales_total.head(5)"
      ]
    },
    {
      "cell_type": "code",
      "execution_count": null,
      "metadata": {
        "colab": {
          "base_uri": "https://localhost:8080/",
          "height": 362
        },
        "id": "NcHqW5HpleDa",
        "outputId": "891b08ba-1a43-48e5-fbb4-092d79b1d352"
      },
      "outputs": [
        {
          "output_type": "display_data",
          "data": {
            "text/plain": [
              "<Figure size 1080x720 with 1 Axes>"
            ],
            "image/png": "[encoded data removed]"
          },
          "metadata": {
            "needs_background": "light"
          }
        }
      ],
      "source": [
        "# Grafico temporal del flujo de clientes que realizaron compras durante el periodo de estudio \n",
        "\n",
        "plt.figure(figsize = (15,10))\n",
        "plt.axes([0.08, 0.4, 0.87, 0.4])\n",
        "df_sales_n_user = df_pd_sales_total.resample(\"D\", on='event_time')['user_id'].nunique()\n",
        "df_sales_n_user.plot(kind ='line')\n",
        "plt.xlabel('Fecha')\n",
        "plt.ylabel('Clientes #');"
      ]
    },
    {
      "cell_type": "markdown",
      "metadata": {
        "id": "lzCh5b1ehn-C"
      },
      "source": [
        "En el anterior grafico podemos observar que es de noviembre se presentaron 4 grandes picos que representan mayor flujo de clientes que realizaron compras en el periodo analizado."
      ]
    },
    {
      "cell_type": "code",
      "execution_count": null,
      "metadata": {
        "colab": {
          "base_uri": "https://localhost:8080/",
          "height": 295
        },
        "id": "HDd1_4EOIZdH",
        "outputId": "fc863c60-5769-4fe3-a17b-c2312e469a68"
      },
      "outputs": [
        {
          "output_type": "display_data",
          "data": {
            "text/plain": [
              "<Figure size 1080x720 with 1 Axes>"
            ],
            "image/png": "[encoded data removed]"
          },
          "metadata": {
            "needs_background": "light"
          }
        }
      ],
      "source": [
        "# Grafico de ventas mensuales totales durante el perio de estudio\n",
        "\n",
        "plt.figure(figsize = (15,10))\n",
        "plt.axes([0.08,0,0.4,0.32])\n",
        "a = df_pd_sales_total.resample('M', on = 'event_time')['price'].sum().to_frame()\n",
        "a['month'] = ['Oct','Nov', 'Dic']\n",
        "a['price'] = a['price']/1000000\n",
        "sns.barplot(x = 'month', y = 'price', data = a, color = \"lightsteelblue\")\n",
        "plt.xlabel('Mes')\n",
        "plt.ylabel('Ventas totales (milliones US$)');"
      ]
    },
    {
      "cell_type": "markdown",
      "metadata": {
        "id": "wiLNTcZFiSik"
      },
      "source": [
        "En este grafico observamos que noviembre fue el mejor mes en ventas, presentando serca de 1,5 millones de dolares en ventas. Este comportamiento es respaldado por un mayor flujo de clientes en dicho mes y que puede ser corronorado en la grafica de serie temporal."
      ]
    },
    {
      "cell_type": "code",
      "execution_count": null,
      "metadata": {
        "colab": {
          "base_uri": "https://localhost:8080/",
          "height": 304
        },
        "id": "aaPAwQwDlqK3",
        "outputId": "f3247aa0-668f-4e44-e1c8-b39307b101b6"
      },
      "outputs": [
        {
          "output_type": "display_data",
          "data": {
            "text/plain": [
              "<Figure size 1440x720 with 1 Axes>"
            ],
            "image/png": "[encoded data removed]"
          },
          "metadata": {
            "needs_background": "light"
          }
        }
      ],
      "source": [
        "#Grafico temporal del valor promedio de compras por cliente durante el periodo de estudio\n",
        "\n",
        "plt.figure(figsize = (20,10))\n",
        "plt.axes([0.55, 0, 0.4, 0.32])\n",
        "df_sales_p_day = df_pd_sales_total.resample('D', on = 'event_time')['price'].sum()\n",
        "df_sales_spent = df_sales_p_day / df_sales_n_user\n",
        "df_sales_spent.plot(kind='area',color=\"lightsteelblue\")\n",
        "plt.xlabel('Fecha')\n",
        "plt.ylabel('Gasto medio/cliente (US$)');"
      ]
    },
    {
      "cell_type": "markdown",
      "metadata": {
        "id": "dN10ZkYDi5Gb"
      },
      "source": [
        "Por otro lado, en este grafico observamos que el las ventas promedio durante los 3 meses analizados oscilo entre US$ 35 y US$ 45 por cliente. Apesar de esto, podemos decir que a inicios del mes de noviembre se presento un mayor flujo de ventes, lo que seguramente influencio en los resultados positivos del mes de noviembre de 2019."
      ]
    },
    {
      "cell_type": "markdown",
      "metadata": {
        "id": "5rZxFq_heRfO"
      },
      "source": [
        "###2.2.3. Analisis de las ventas "
      ]
    },
    {
      "cell_type": "code",
      "execution_count": null,
      "metadata": {
        "colab": {
          "base_uri": "https://localhost:8080/"
        },
        "id": "VQQGmfPUfDIc",
        "outputId": "956b020c-45ec-44e0-98e5-ce7bcd213d1d"
      },
      "outputs": [
        {
          "output_type": "execute_result",
          "data": {
            "text/plain": [
              "pyspark.sql.dataframe.DataFrame"
            ]
          },
          "metadata": {},
          "execution_count": 52
        }
      ],
      "source": [
        "# Verificamos el tipo de dataframe antes de usarlos (confirmamos si continuamos trabjando con Spark)\n",
        "type(df_sales_dec)\n",
        "type(df_sales_nov)\n",
        "type(df_sales_oct)"
      ]
    },
    {
      "cell_type": "code",
      "execution_count": null,
      "metadata": {
        "id": "oEs9wYO7iduK"
      },
      "outputs": [],
      "source": [
        "# Contabilizar los valores unicos de los productos vendidos (product_id)\n",
        "produ_sales_dec = df_dec.groupBy('product_id').count()\n",
        "produ_sales_nov = df_nov.groupBy('product_id').count()\n",
        "produ_sales_oct = df_oct.groupBy('product_id').count()"
      ]
    },
    {
      "cell_type": "code",
      "execution_count": null,
      "metadata": {
        "colab": {
          "base_uri": "https://localhost:8080/"
        },
        "id": "j1EUA7T98SBF",
        "outputId": "a9eb31f7-9a42-471e-fdc7-3e3295b46752"
      },
      "outputs": [
        {
          "output_type": "stream",
          "name": "stdout",
          "text": [
            "Número de productos unicos vendidos en mes de diciembre: 44624\n",
            "Número de productos unicos vendidos en mes de noviembre: 43419\n",
            "Número de productos unicos vendidos en mes de octubre: 41899\n",
            "En total se vendieron 129942 productos en el ultimo trimestre del año 2019\n"
          ]
        }
      ],
      "source": [
        "print('Número de productos unicos vendidos en mes de diciembre:',produ_sales_dec.count())\n",
        "print('Número de productos unicos vendidos en mes de noviembre:',produ_sales_nov.count())\n",
        "print('Número de productos unicos vendidos en mes de octubre:',produ_sales_oct.count())\n",
        "print('En total se vendieron %d productos en el ultimo trimestre del año 2019'%(produ_sales_dec.count() + produ_sales_nov.count() + produ_sales_oct.count()))"
      ]
    },
    {
      "cell_type": "markdown",
      "metadata": {
        "id": "RRzxYz7bBWXs"
      },
      "source": [
        "Observamos que en el último trimestre del 2019 se vendieron cerca de 13mil productos. Por otro lado, a pesar de que noviembre fue el mes que presento mayores ventas (US$ 1.531.016,89), encontramos que en el mes de diciembre existió mayor diversidad de productos vendidos (44.624) en relación a los otros meses analizados. "
      ]
    },
    {
      "cell_type": "markdown",
      "metadata": {
        "id": "zoVvmGxkkw1K"
      },
      "source": [
        "####**Productos más vendidos**"
      ]
    },
    {
      "cell_type": "code",
      "execution_count": null,
      "metadata": {
        "id": "hUWCPNpt6Hqv",
        "colab": {
          "base_uri": "https://localhost:8080/"
        },
        "outputId": "8670d9a5-a821-45d7-db25-3355a024f9fd"
      },
      "outputs": [
        {
          "output_type": "stream",
          "name": "stdout",
          "text": [
            "+----------+-----+\n",
            "|product_id|count|\n",
            "+----------+-----+\n",
            "|   5809910|35225|\n",
            "|   5809912|10875|\n",
            "|   5909810| 9671|\n",
            "|   5700037| 8834|\n",
            "|   5802432| 8411|\n",
            "|   5809911| 7637|\n",
            "|   5877454| 7547|\n",
            "|   5815662| 7461|\n",
            "|   5854897| 7402|\n",
            "|   5751422| 7309|\n",
            "+----------+-----+\n",
            "only showing top 10 rows\n",
            "\n"
          ]
        }
      ],
      "source": [
        "## Mostrar los 10 producto más vendidos en diciembre\n",
        "produ_sales_dec.orderBy(col('count').desc()).show(10)"
      ]
    },
    {
      "cell_type": "code",
      "execution_count": null,
      "metadata": {
        "id": "hy1NE_TQA7Bb",
        "colab": {
          "base_uri": "https://localhost:8080/"
        },
        "outputId": "edf4d4f1-bfce-45b3-ae5c-3367cf947fb5"
      },
      "outputs": [
        {
          "output_type": "stream",
          "name": "stdout",
          "text": [
            "+----------+-----+\n",
            "|product_id|count|\n",
            "+----------+-----+\n",
            "|   5809910|31380|\n",
            "|   5809912|12527|\n",
            "|   5700037|11714|\n",
            "|   5751422|10982|\n",
            "|   5900651|10432|\n",
            "|   5751383|10367|\n",
            "|   5854897|10156|\n",
            "|   5802432| 9985|\n",
            "|   5815662| 9976|\n",
            "|   5849033| 9732|\n",
            "+----------+-----+\n",
            "only showing top 10 rows\n",
            "\n"
          ]
        }
      ],
      "source": [
        "## Mostrar los 10 producto más vendidos en noviembre\n",
        "produ_sales_nov.orderBy(col('count').desc()).show(10)"
      ]
    },
    {
      "cell_type": "code",
      "execution_count": null,
      "metadata": {
        "id": "Fxn2R3X6yguY",
        "colab": {
          "base_uri": "https://localhost:8080/"
        },
        "outputId": "03e51819-5d3f-41dc-fa3e-35a75e505999"
      },
      "outputs": [
        {
          "output_type": "stream",
          "name": "stdout",
          "text": [
            "+----------+-----+\n",
            "|product_id|count|\n",
            "+----------+-----+\n",
            "|   5809910|10523|\n",
            "|   5892179|10076|\n",
            "|   5700037| 9429|\n",
            "|   5751383| 8507|\n",
            "|   5877454| 8246|\n",
            "|   5751422| 8208|\n",
            "|   5809912| 7904|\n",
            "|   5802432| 7389|\n",
            "|   5809911| 7040|\n",
            "|   5792800| 7016|\n",
            "+----------+-----+\n",
            "only showing top 10 rows\n",
            "\n"
          ]
        }
      ],
      "source": [
        "## Mostrar los 10 producto más vendidos en octubre\n",
        "produ_sales_oct.orderBy(col('count').desc()).show(10)"
      ]
    },
    {
      "cell_type": "markdown",
      "metadata": {
        "id": "CGEzBu5XCTbz"
      },
      "source": [
        "Al filtrar los registros por el ID del producto y al ordenar estos por cantidad de produtos vendido, encontramos que en los 3 meses analisados los productos con ID 5809910 y 5809912, fueron los productos más vendidos, con ventas de entre 35.000 y 12.000 unidades, respectivamente en cada mes."
      ]
    },
    {
      "cell_type": "markdown",
      "metadata": {
        "id": "EluFbXSLV7Sz"
      },
      "source": [
        "####**Productos con mayor relevancia en las ventas**"
      ]
    },
    {
      "cell_type": "code",
      "execution_count": null,
      "metadata": {
        "id": "zbG7MgsYMbVG",
        "colab": {
          "base_uri": "https://localhost:8080/"
        },
        "outputId": "3e173a1d-8e81-4c1d-d7b5-d884cd2426d3"
      },
      "outputs": [
        {
          "output_type": "stream",
          "name": "stdout",
          "text": [
            "+----------+--------+--------------------+\n",
            "|product_id|Unidades|Ventas totales (US$)|\n",
            "+----------+--------+--------------------+\n",
            "|   5850281|      76|  10471.280000000004|\n",
            "|   5560754|      52|  10110.880000000001|\n",
            "|   5809910|    1659|   8693.159999999989|\n",
            "|   5751422|     548|   6000.600000000015|\n",
            "|   5751383|     435|   4489.200000000006|\n",
            "|   5877454|     101|   4473.289999999999|\n",
            "|   5909810|     231|   4326.630000000003|\n",
            "|   5846437|      95|              4297.8|\n",
            "|   5849033|     394|  4066.0800000000086|\n",
            "|   5792800|     394|  4066.0800000000067|\n",
            "+----------+--------+--------------------+\n",
            "only showing top 10 rows\n",
            "\n"
          ]
        }
      ],
      "source": [
        "# Productos que representanron mayores ventas en el mes de diciembre de 2019\n",
        "df_sales_dec.groupBy('product_id') \\\n",
        "  .agg(count('product_id'). alias('Unidades'), \n",
        "       sum('price').alias('Ventas totales (US$)'),\n",
        "       ) \\\n",
        "  .sort(col('Ventas totales (US$)').desc()) \\\n",
        "  .show(10)"
      ]
    },
    {
      "cell_type": "code",
      "execution_count": null,
      "metadata": {
        "id": "ytnXp1Quu3s9",
        "colab": {
          "base_uri": "https://localhost:8080/"
        },
        "outputId": "07a3d43d-014c-436e-bc44-a1844d99171c"
      },
      "outputs": [
        {
          "output_type": "stream",
          "name": "stdout",
          "text": [
            "+----------+--------+--------------------+\n",
            "|product_id|Unidades|Ventas totales (US$)|\n",
            "+----------+--------+--------------------+\n",
            "|   5560754|     120|  23116.719999999994|\n",
            "|   5809910|    2138|  10911.229999999954|\n",
            "|   5751422|     934|   9902.160000000033|\n",
            "|     89343|      30|              8859.3|\n",
            "|   5751383|     802|   8068.589999999986|\n",
            "|   5877454|     181|             7610.23|\n",
            "|   5849033|     761|   7560.059999999988|\n",
            "|   5792800|     716|   7175.959999999987|\n",
            "|   5850281|      50|   6687.699999999999|\n",
            "|   5856186|      85|   6132.130000000001|\n",
            "+----------+--------+--------------------+\n",
            "only showing top 10 rows\n",
            "\n"
          ]
        }
      ],
      "source": [
        "# Productos que representanron mayores ventas en el mes de noviembre de 2019\n",
        "df_sales_nov.groupBy('product_id') \\\n",
        "  .agg(count('product_id'). alias('Unidades'), \n",
        "       sum('price').alias('Ventas totales (US$)'),\n",
        "       ) \\\n",
        "  .sort(col('Ventas totales (US$)').desc()) \\\n",
        "  .show(10)"
      ]
    },
    {
      "cell_type": "code",
      "execution_count": null,
      "metadata": {
        "colab": {
          "base_uri": "https://localhost:8080/"
        },
        "id": "9Zue5yTpvCCu",
        "outputId": "b9ce7c6a-9585-43df-93e2-96544a01438d"
      },
      "outputs": [
        {
          "output_type": "stream",
          "name": "stdout",
          "text": [
            "+----------+--------+--------------------+\n",
            "|product_id|Unidades|Ventas totales (US$)|\n",
            "+----------+--------+--------------------+\n",
            "|   5877454|     251|  11116.789999999995|\n",
            "|   5560754|      44|             8555.36|\n",
            "|   5560756|      37|   7693.780000000001|\n",
            "|   5856186|      94|   7087.600000000003|\n",
            "|   5751422|     644|   7051.800000000019|\n",
            "|   5846437|     139|   6288.360000000001|\n",
            "|   5792800|     592|   6109.439999999998|\n",
            "|   5751383|     566|   5841.119999999998|\n",
            "|   5855507|      73|   5782.330000000002|\n",
            "|   5849033|     440|   4540.800000000004|\n",
            "+----------+--------+--------------------+\n",
            "only showing top 10 rows\n",
            "\n"
          ]
        }
      ],
      "source": [
        "# Productos que representanron mayores ventas en el mes de octubre de 2019\n",
        "df_sales_oct.groupBy('product_id') \\\n",
        "  .agg(count('product_id'). alias('Unidades'), \n",
        "       sum('price').alias('Ventas totales (US$)'),\n",
        "       ) \\\n",
        "  .sort(col('Ventas totales (US$)').desc()) \\\n",
        "  .show(10)"
      ]
    },
    {
      "cell_type": "markdown",
      "metadata": {
        "id": "OSKSKxbivMQL"
      },
      "source": [
        "En este breve analisis de los productos vendidos en cada mes y si participacion en las ventas totales, observamos que en el mes de noviembre el producto de ID 5560754, alcanzo a un valor en ventas de US$ 23 mil, aproximadamente. Este producto represento relevancia en las ventas totales alcanzadas para el mes de noviembre. "
      ]
    },
    {
      "cell_type": "markdown",
      "metadata": {
        "id": "x9Ax6YULw7s6"
      },
      "source": [
        "####**Analisis de los mejores clientes**"
      ]
    },
    {
      "cell_type": "code",
      "execution_count": null,
      "metadata": {
        "colab": {
          "base_uri": "https://localhost:8080/"
        },
        "id": "Zdf9YgwlyFWJ",
        "outputId": "e774f11f-d8d4-49a6-8a27-3de29ab57018"
      },
      "outputs": [
        {
          "output_type": "stream",
          "name": "stdout",
          "text": [
            "+---------+--------+--------------------+\n",
            "|  user_id|Unidades|Ventas totales (US$)|\n",
            "+---------+--------+--------------------+\n",
            "|575709540|     399|  1526.7299999999989|\n",
            "|565036131|     126|  1443.9399999999996|\n",
            "|586168240|     187|  1240.6700000000017|\n",
            "|572081598|     122|  1085.3200000000004|\n",
            "|572631412|     199|  1046.4200000000008|\n",
            "+---------+--------+--------------------+\n",
            "only showing top 5 rows\n",
            "\n"
          ]
        }
      ],
      "source": [
        "# Clientes que hicieron la mayor compra (US$) en mes de diciembre\n",
        "\n",
        "df_sales_dec.groupBy('user_id') \\\n",
        "  .agg(count('product_id'). alias('Unidades'), \n",
        "       sum('price').alias('Ventas totales (US$)'),\n",
        "       ) \\\n",
        "  .sort(col('Ventas totales (US$)').desc()) \\\n",
        "  .show(5)"
      ]
    },
    {
      "cell_type": "code",
      "execution_count": null,
      "metadata": {
        "id": "o82NaA9EyFL8",
        "colab": {
          "base_uri": "https://localhost:8080/"
        },
        "outputId": "1b54be29-d387-4d90-db55-a4b0280ab1e0"
      },
      "outputs": [
        {
          "output_type": "stream",
          "name": "stdout",
          "text": [
            "+---------+--------+--------------------+\n",
            "|  user_id|Unidades|Ventas totales (US$)|\n",
            "+---------+--------+--------------------+\n",
            "|575709540|     399|  1526.7299999999989|\n",
            "|517825140|     376|   849.8699999999995|\n",
            "|404207391|     204|  307.20000000000056|\n",
            "|572631412|     199|  1046.4200000000008|\n",
            "|471099630|     190|   960.1300000000018|\n",
            "+---------+--------+--------------------+\n",
            "only showing top 5 rows\n",
            "\n"
          ]
        }
      ],
      "source": [
        "# Clientes que compraron la mayor cantidad de productos (unidades compradas) en el mes de diciembre\n",
        "\n",
        "df_sales_dec.groupBy('user_id') \\\n",
        "  .agg(count('product_id'). alias('Unidades'), \n",
        "       sum('price').alias('Ventas totales (US$)'),\n",
        "       ) \\\n",
        "  .sort(col('Unidades').desc()) \\\n",
        "  .show(5)"
      ]
    },
    {
      "cell_type": "code",
      "execution_count": null,
      "metadata": {
        "id": "kDC7GoRgyEty",
        "colab": {
          "base_uri": "https://localhost:8080/"
        },
        "outputId": "42735a36-ba6e-478a-adae-d393bff470d3"
      },
      "outputs": [
        {
          "output_type": "stream",
          "name": "stdout",
          "text": [
            "+---------+--------+--------------------+\n",
            "|  user_id|Unidades|Ventas totales (US$)|\n",
            "+---------+--------+--------------------+\n",
            "|557790271|     438|  2715.8699999999935|\n",
            "|566576008|     236|  1056.3600000000017|\n",
            "|546880217|      46|   987.5199999999999|\n",
            "|570967715|     108|   904.9199999999998|\n",
            "|539636703|     157|   886.7300000000001|\n",
            "+---------+--------+--------------------+\n",
            "only showing top 5 rows\n",
            "\n"
          ]
        }
      ],
      "source": [
        "# Clientes que hicieron la mayor compra (US$) en mes de noviembre\n",
        "\n",
        "df_sales_nov.groupBy('user_id') \\\n",
        "  .agg(count('product_id'). alias('Unidades'), \n",
        "       sum('price').alias('Ventas totales (US$)'),\n",
        "       ) \\\n",
        "  .sort(col('Ventas totales (US$)').desc()) \\\n",
        "  .show(5)"
      ]
    },
    {
      "cell_type": "code",
      "execution_count": null,
      "metadata": {
        "id": "hIHC_13SyEeh",
        "colab": {
          "base_uri": "https://localhost:8080/"
        },
        "outputId": "7f3aa56c-0dec-4912-8c16-9d462496394f"
      },
      "outputs": [
        {
          "output_type": "stream",
          "name": "stdout",
          "text": [
            "+---------+--------+--------------------+\n",
            "|  user_id|Unidades|Ventas totales (US$)|\n",
            "+---------+--------+--------------------+\n",
            "|557790271|     438|  2715.8699999999935|\n",
            "|549507462|     256|   803.5899999999999|\n",
            "|566576008|     236|  1056.3600000000017|\n",
            "|514908450|     209|  467.60000000000105|\n",
            "|540621056|     195|   532.3399999999999|\n",
            "+---------+--------+--------------------+\n",
            "only showing top 5 rows\n",
            "\n"
          ]
        }
      ],
      "source": [
        "# Clientes que compraron la maor cantidad de productos (unidades compradas) en el mes de noviembre\n",
        "\n",
        "df_sales_nov.groupBy('user_id') \\\n",
        "  .agg(count('product_id'). alias('Unidades'), \n",
        "       sum('price').alias('Ventas totales (US$)'),\n",
        "       ) \\\n",
        "  .sort(col('Unidades').desc()) \\\n",
        "  .show(5)"
      ]
    },
    {
      "cell_type": "code",
      "execution_count": null,
      "metadata": {
        "id": "pCaliLwzxFmj",
        "colab": {
          "base_uri": "https://localhost:8080/"
        },
        "outputId": "7a6ce00a-7c66-4f00-d32f-a7ff1fe47720"
      },
      "outputs": [
        {
          "output_type": "stream",
          "name": "stdout",
          "text": [
            "+---------+--------+--------------------+\n",
            "|  user_id|Unidades|Ventas totales (US$)|\n",
            "+---------+--------+--------------------+\n",
            "|557850743|     104|  1295.4800000000005|\n",
            "|561592095|      94|  1109.6999999999996|\n",
            "|150318419|      95|  1104.7599999999998|\n",
            "|546827800|     329|  1004.4500000000005|\n",
            "|474623506|      47|   914.9100000000002|\n",
            "+---------+--------+--------------------+\n",
            "only showing top 5 rows\n",
            "\n"
          ]
        }
      ],
      "source": [
        "# Clientes que hicieron la mayor compra (US$) en mes de octubre\n",
        "\n",
        "df_sales_oct.groupBy('user_id') \\\n",
        "  .agg(count('product_id'). alias('Unidades'), \n",
        "       sum('price').alias('Ventas totales (US$)'),\n",
        "       ) \\\n",
        "  .sort(col('Ventas totales (US$)').desc()) \\\n",
        "  .show(5)"
      ]
    },
    {
      "cell_type": "code",
      "execution_count": null,
      "metadata": {
        "colab": {
          "base_uri": "https://localhost:8080/"
        },
        "id": "iUQc6Bx4xYKV",
        "outputId": "5611124e-3330-4bc7-b0db-b1f4cbad3f6e"
      },
      "outputs": [
        {
          "output_type": "stream",
          "name": "stdout",
          "text": [
            "+---------+--------+--------------------+\n",
            "|  user_id|Unidades|Ventas totales (US$)|\n",
            "+---------+--------+--------------------+\n",
            "|546827800|     329|  1004.4500000000005|\n",
            "|549368055|     208|   903.8800000000008|\n",
            "|539691934|     178|   749.0000000000002|\n",
            "|438698700|     163|  175.73000000000005|\n",
            "|563301515|     159|   322.6199999999998|\n",
            "+---------+--------+--------------------+\n",
            "only showing top 5 rows\n",
            "\n"
          ]
        }
      ],
      "source": [
        "# Clientes que compraron la mayor cantidad de productos (unidades compradas) en el mes de octubre\n",
        "\n",
        "df_sales_oct.groupBy('user_id') \\\n",
        "  .agg(count('product_id'). alias('Unidades'), \n",
        "       sum('price').alias('Ventas totales (US$)'),\n",
        "       ) \\\n",
        "  .sort(col('Unidades').desc()) \\\n",
        "  .show(5)"
      ]
    },
    {
      "cell_type": "markdown",
      "metadata": {
        "id": "_cgcTyDpAtO8"
      },
      "source": [
        "En las tablas que fueron presentadas anteriormente, podemos observar que los mejores 5 clientes en cada mes son diferentes, lo que demuesta la existencia de un buen numero de clientes que adquieren los productos. "
      ]
    },
    {
      "cell_type": "markdown",
      "metadata": {
        "id": "lPvRh6pDzZfi"
      },
      "source": [
        "#**3. Machine learning con _PySpark_**"
      ]
    },
    {
      "cell_type": "markdown",
      "source": [
        "* Seleccionamos las columnas a trabajar para realizar el entrenamiento y pruebas, se agrupa por cada mes la suma de los datos de ventas por día de mes, y concatenamos los resultados de los 3 meses para obtener un listado unificado."
      ],
      "metadata": {
        "id": "W4YQjgd9thMp"
      }
    },
    {
      "cell_type": "code",
      "execution_count": null,
      "metadata": {
        "colab": {
          "base_uri": "https://localhost:8080/"
        },
        "id": "3jDOrcYZT-jV",
        "outputId": "d50ade30-5068-4f9a-f283-a8ed3959fc89"
      },
      "outputs": [
        {
          "output_type": "stream",
          "name": "stdout",
          "text": [
            "+------------+------------------+\n",
            "|Day_of_month|   Venta_total_dia|\n",
            "+------------+------------------+\n",
            "|           1|1102153.5499998953|\n",
            "|           6|1059341.0999999165|\n",
            "|           3|1172935.1099999545|\n",
            "|           5|1124082.7299999814|\n",
            "|           4| 1241777.629999952|\n",
            "|           7| 954734.0799999522|\n",
            "|           2|1184561.8999999783|\n",
            "|          12|1116291.8899998749|\n",
            "|          13| 999632.3899998261|\n",
            "|           9|1257598.1299998122|\n",
            "|           8| 1061551.049999937|\n",
            "|          10|1228395.4699999092|\n",
            "|          11|1190146.4699998428|\n",
            "|          14| 953973.6299999594|\n",
            "|          22| 969762.2499998864|\n",
            "|          16|1247088.3599999205|\n",
            "|          20| 938658.0399998903|\n",
            "|          19|1064701.5899998313|\n",
            "|          15|1093529.4899998752|\n",
            "|          17|1185104.2899998366|\n",
            "+------------+------------------+\n",
            "only showing top 20 rows\n",
            "\n"
          ]
        }
      ],
      "source": [
        "DataN1=df_dec.groupBy(dayofmonth(\"event_time\").alias(\"Day_of_month\")).agg(sum(\"price\").alias(\"Venta_total_dia\"))\n",
        "DataN2=df_nov.groupBy(dayofmonth(\"event_time\").alias(\"Day_of_month\")).agg(sum(\"price\").alias(\"Venta_total_dia\"))\n",
        "DataN3=df_oct.groupBy(dayofmonth(\"event_time\").alias(\"Day_of_month\")).agg(sum(\"price\").alias(\"Venta_total_dia\"))\n",
        "Join=DataN1.union(DataN2)\n",
        "DataN=Join.union(DataN3)\n",
        "DataN.show()"
      ]
    },
    {
      "cell_type": "markdown",
      "source": [
        "* Generamos un vector donde el unico dato de entrada en este caso corresponde a la columna de día de mes."
      ],
      "metadata": {
        "id": "cyu7I5_1uZpB"
      }
    },
    {
      "cell_type": "code",
      "execution_count": null,
      "metadata": {
        "id": "FEERTxLBSe_X"
      },
      "outputs": [],
      "source": [
        "featureassembler = VectorAssembler(inputCols = [\"Day_of_month\"], outputCol = \"Independent Features\")"
      ]
    },
    {
      "cell_type": "markdown",
      "source": [
        "* Reasignamos el nombre de caracteristica independiente a día de mes."
      ],
      "metadata": {
        "id": "YCW4TjNIugA6"
      }
    },
    {
      "cell_type": "code",
      "execution_count": null,
      "metadata": {
        "id": "hmmStSAISjnz",
        "colab": {
          "base_uri": "https://localhost:8080/"
        },
        "outputId": "c1be56da-7f2a-4e95-e311-869a645b29d2"
      },
      "outputs": [
        {
          "output_type": "stream",
          "name": "stdout",
          "text": [
            "+--------------------+\n",
            "|Independent Features|\n",
            "+--------------------+\n",
            "|               [1.0]|\n",
            "|               [6.0]|\n",
            "|               [3.0]|\n",
            "|               [5.0]|\n",
            "|               [4.0]|\n",
            "|               [7.0]|\n",
            "|               [2.0]|\n",
            "|              [12.0]|\n",
            "|              [13.0]|\n",
            "|               [9.0]|\n",
            "|               [8.0]|\n",
            "|              [10.0]|\n",
            "|              [11.0]|\n",
            "|              [14.0]|\n",
            "|              [22.0]|\n",
            "|              [16.0]|\n",
            "|              [20.0]|\n",
            "|              [19.0]|\n",
            "|              [15.0]|\n",
            "|              [17.0]|\n",
            "+--------------------+\n",
            "only showing top 20 rows\n",
            "\n"
          ]
        }
      ],
      "source": [
        "output = featureassembler.transform(DataN)\n",
        "output.select(\"Independent Features\").show()"
      ]
    },
    {
      "cell_type": "markdown",
      "source": [
        "* Generamos un dataframe con nombre final_data que cumple las caracteristicas requeridas para poder continuar el proceso de modelamiento."
      ],
      "metadata": {
        "id": "-mNKjTwuutXm"
      }
    },
    {
      "cell_type": "code",
      "execution_count": null,
      "metadata": {
        "id": "GLEEgfBESn_e"
      },
      "outputs": [],
      "source": [
        "final_data = output.select(\"Independent Features\", \"Venta_total_dia\")"
      ]
    },
    {
      "cell_type": "markdown",
      "source": [
        "* Se realiza la partición de los datos 80% para entrenamiento y 20% para prueba."
      ],
      "metadata": {
        "id": "JgOoM_nFu6jH"
      }
    },
    {
      "cell_type": "code",
      "execution_count": null,
      "metadata": {
        "id": "2x7CWW3aSqot"
      },
      "outputs": [],
      "source": [
        "train_data, test_data = final_data.randomSplit([0.8, 0.2])"
      ]
    },
    {
      "cell_type": "markdown",
      "source": [
        "* Generamos un modelo de tipo regresión lienal ya que estos datos no son categoricos y deseamos encontrar si existe una relación entre los dias de la semana y las ventas diarias."
      ],
      "metadata": {
        "id": "iRxq9VnqvGe3"
      }
    },
    {
      "cell_type": "code",
      "execution_count": null,
      "metadata": {
        "id": "kaRJSsB4St7e"
      },
      "outputs": [],
      "source": [
        "\n",
        "regressor = LinearRegression(featuresCol = 'Independent Features', labelCol = 'Venta_total_dia')\n",
        "regressor = regressor.fit(train_data)"
      ]
    },
    {
      "cell_type": "markdown",
      "source": [
        "* Procedemos a obtener las predicciones correspondientes a los datos de prueba para asi evidenciar si el modelo es efectivo."
      ],
      "metadata": {
        "id": "vNMFTDCovfWI"
      }
    },
    {
      "cell_type": "code",
      "execution_count": null,
      "metadata": {
        "id": "8MXauHu_SwUF",
        "colab": {
          "base_uri": "https://localhost:8080/"
        },
        "outputId": "acf298db-77ba-410c-f4f6-a951c2d85e1e"
      },
      "outputs": [
        {
          "output_type": "stream",
          "name": "stdout",
          "text": [
            "+--------------------+------------------+------------------+\n",
            "|Independent Features|   Venta_total_dia|        prediction|\n",
            "+--------------------+------------------+------------------+\n",
            "|               [7.0]| 954734.0799999522|1173074.8546642647|\n",
            "|               [8.0]| 1061551.049999937| 1169475.933564968|\n",
            "|              [12.0]|1116291.8899998749|1155080.2491677816|\n",
            "|              [20.0]| 938658.0399998903|1126288.8803734086|\n",
            "|              [25.0]| 961597.8099999222|1108294.2748769256|\n",
            "|              [30.0]|  642448.519999993|1090299.6693804425|\n",
            "|               [4.0]|1139616.8399999493|1183871.6179621546|\n",
            "|               [9.0]| 1041612.439999972|1165877.0124656714|\n",
            "|              [14.0]|1145139.1500000113|1147882.4069691882|\n",
            "|              [15.0]|1051585.0699999416|1144283.4858698917|\n",
            "|              [19.0]|1196425.4199999725|1129887.8014727053|\n",
            "|               [6.0]|1512127.3399998653|1176673.7757635613|\n",
            "|               [9.0]|1197647.2499997662|1165877.0124656714|\n",
            "|              [14.0]|1160289.4499998582|1147882.4069691882|\n",
            "|              [15.0]|1119746.1499998616|1144283.4858698917|\n",
            "|              [22.0]| 1149625.929999829|1119091.0381748155|\n",
            "|              [30.0]|1058074.5199998117|1090299.6693804425|\n",
            "+--------------------+------------------+------------------+\n",
            "\n"
          ]
        }
      ],
      "source": [
        "pred_results = regressor.evaluate(test_data)\n",
        "P=pred_results.predictions\n",
        "P.show()"
      ]
    },
    {
      "cell_type": "markdown",
      "source": [
        "* Graficamos los datos reales de los datos de prueba y las predicciones obtenidas."
      ],
      "metadata": {
        "id": "GE6j0cj0vsjs"
      }
    },
    {
      "cell_type": "code",
      "source": [
        "y_pred = P.select(\"prediction\").collect()\n",
        "y_orig = P.select(\"Venta_total_dia\").collect() \n",
        "plt.plot(y_orig, label=\"original\")\n",
        "plt.plot(y_pred, label=\"predicted\")\n",
        "plt.xlabel('X-axis')\n",
        "plt.ylabel('Y-axis')\n",
        "plt.grid(True)\n",
        "plt.show()  "
      ],
      "metadata": {
        "colab": {
          "base_uri": "https://localhost:8080/",
          "height": 290
        },
        "id": "0PzDMRg_A-4o",
        "outputId": "5327fc78-6df3-4807-e1bf-a0ebf68abfd1"
      },
      "execution_count": null,
      "outputs": [
        {
          "output_type": "display_data",
          "data": {
            "text/plain": [
              "<Figure size 432x288 with 1 Axes>"
            ],
            "image/png": "[encoded data removed]"
          },
          "metadata": {
            "needs_background": "light"
          }
        }
      ]
    },
    {
      "cell_type": "markdown",
      "source": [
        "* Evaluamos el modelo.\n",
        "El análisis de regresión se utiliza cuando se predice una variable de salida continua a partir de variables independientes, en este caso las predicciones y los datos reales no corresponden a datos de clasificación o descriptivos, corresponden a ventas por lo que se evalúa la capacidad predictiva."
      ],
      "metadata": {
        "id": "iAD31Fn3v7Tr"
      }
    },
    {
      "cell_type": "code",
      "source": [
        "print(\"Coefficients: \", regressor.coefficients)\n",
        "print(\"Intercept: \", regressor.intercept)\n",
        "\n",
        "print(\"MSE: \", regressor.summary.meanSquaredError)\n",
        "print(\"MAE: \", regressor.summary.meanAbsoluteError)\n",
        "print(\"R-squared: \", regressor.summary.r2)\n",
        "rmse = mean_squared_error(\n",
        "        y_true  = y_orig,\n",
        "        y_pred  = y_pred,\n",
        "        squared = False\n",
        "       )\n",
        "print(\"\")\n",
        "print(f\"El error (rmse) de test es: {rmse}\")"
      ],
      "metadata": {
        "colab": {
          "base_uri": "https://localhost:8080/"
        },
        "id": "zIcGx_6Tv-0m",
        "outputId": "3b636e8f-6d5e-4e6d-bb7b-4a72c1313f62"
      },
      "execution_count": null,
      "outputs": [
        {
          "output_type": "stream",
          "name": "stdout",
          "text": [
            "Coefficients:  [-3598.921099296617]\n",
            "Intercept:  1198267.302359341\n",
            "MSE:  51779910021.67447\n",
            "MAE:  160558.11640033673\n",
            "R-squared:  0.020156695510583966\n",
            "\n",
            "El error (rmse) de test es: 165354.18158065478\n"
          ]
        }
      ]
    },
    {
      "cell_type": "code",
      "execution_count": null,
      "metadata": {
        "id": "K3kJ_lCQmp-v"
      },
      "outputs": [],
      "source": [
        "# Cerrar la sesion creada en Apache Spark (closet connection to Spark).\n",
        "spark.stop()"
      ]
    },
    {
      "cell_type": "markdown",
      "metadata": {
        "id": "z2fWgxmPDtxA"
      },
      "source": [
        "#**Conclusión**"
      ]
    },
    {
      "cell_type": "markdown",
      "metadata": {
        "id": "YfpRnXEinCQe"
      },
      "source": [
        "* El uso del motor unificado de analítica Apacha Spark, permitió manejar de manera eficiente los registros contenidos en la base de datos. Así, por medio de esta tecnología y la librería de PySpark fue posible calcular el comportamiento de las ventas y los principales productos que impulsaron dichas ventas.\n",
        "\n",
        "* Por medio del uso de filtros se logro obtener los clientes que impulsaron de manera positiva las ventas en cada uno de los meses analizados. Llegando a la conclusión de que los clientes que presentaban mayores compras era diferentes para cada mes. Sin embargo, los productos que estos adquieran eran los mismo. Es en este punto, que este tipo de información permite establecer estrategias de mercadeo más eficientes.\n",
        "\n",
        "* A pesar de que la gráfica final en donde podemos comparar los resultados obtenidos de la predicción y los valores originales, intenta replicar su forma no logra generar valores en el rango deseado y se obtiene un R^2 cercano a 0 y un error rmse alrededor de 17000 unidades de diferencia promedio de los datos originales, indicando una baja capacidad predictiva, por lo que no es posible predecir las ventas de un día determinado con relacion al día del mes.\n",
        "\n",
        "* Se concluye que no existe una relación entre las ventas totales diarias y los días del mes, lo que nos indicaría que las ventas no se ven influenciados por los dias del mes y que se requiere evaluar la influencia de más variables.\n"
      ]
    }
  ],
  "metadata": {
    "colab": {
      "collapsed_sections": [
        "_XHg1nfTf83Q",
        "gh-CZtutfN1w",
        "jzKgdnLSAzm7",
        "4JhAYBidEhP5",
        "zoVvmGxkkw1K"
      ],
      "provenance": [],
      "toc_visible": true,
      "include_colab_link": true
    },
    "kernelspec": {
      "display_name": "Python 3",
      "name": "python3"
    },
    "language_info": {
      "name": "python"
    }
  },
  "nbformat": 4,
  "nbformat_minor": 0
}